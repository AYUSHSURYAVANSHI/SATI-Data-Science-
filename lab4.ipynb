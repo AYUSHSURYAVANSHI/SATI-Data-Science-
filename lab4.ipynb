{
 "cells": [
  {
   "cell_type": "code",
   "execution_count": 3,
   "metadata": {},
   "outputs": [
    {
     "name": "stdout",
     "output_type": "stream",
     "text": [
      "     Col1 Col2\n",
      "Row1    1    2\n",
      "Row2    3    4\n",
      "   0  1  2\n",
      "0  1  2  3\n",
      "1  4  5  6\n",
      "   1  2  3\n",
      "0  1  1  2\n",
      "1  3  2  4\n",
      "   A\n",
      "0  4\n",
      "1  5\n",
      "2  6\n",
      "3  7\n",
      "                         0\n",
      "United Kingdom      London\n",
      "India            New Delhi\n",
      "UnitedStates    Washington\n",
      "Belgium           Brussels\n",
      "(2, 3)\n",
      "2\n",
      "\n",
      "Ayush Suryavanshi\n",
      "Enrollment No.- 0108io211014\n"
     ]
    }
   ],
   "source": [
    "import numpy as np\n",
    "import pandas as pd\n",
    "data = np.array([['','Col1','Col2'],\n",
    "['Row1',1,2],\n",
    "['Row2',3,4]])\n",
    "print(pd.DataFrame(data=data[1:,1:],\n",
    "index = data[1:,0],\n",
    "columns=data[0,1:]))\n",
    "my_2darray = np.array([[1, 2, 3], [4, 5, 6]])\n",
    "print(pd.DataFrame(my_2darray))\n",
    "\n",
    "my_dict = {1: ['1', '3'], 2: ['1', '2'], 3: ['2', '4']}\n",
    "print(pd.DataFrame(my_dict))\n",
    "\n",
    "my_df = pd.DataFrame(data=[4,5,6,7], index=range(0,4),columns=['A'])\n",
    "print(pd.DataFrame(my_df))\n",
    "\n",
    "my_series = pd.Series({\"United Kingdom\":\"London\", \"India\":\"New Delhi\", \"UnitedStates\":\"Washington\", \"Belgium\":\"Brussels\"})\n",
    "print(pd.DataFrame(my_series))\n",
    "df = pd.DataFrame(np.array([[1, 2, 3], [4, 5, 6]]))\n",
    "\n",
    "print(df.shape)\n",
    "\n",
    "print(len(df.index))\n",
    "\n",
    "print(\"\\nAyush Suryavanshi\")\n",
    "print(\"Enrollment No.- 0108io211014\")"
   ]
  },
  {
   "cell_type": "code",
   "execution_count": null,
   "metadata": {},
   "outputs": [],
   "source": []
  }
 ],
 "metadata": {
  "kernelspec": {
   "display_name": "Python 3",
   "language": "python",
   "name": "python3"
  },
  "language_info": {
   "codemirror_mode": {
    "name": "ipython",
    "version": 3
   },
   "file_extension": ".py",
   "mimetype": "text/x-python",
   "name": "python",
   "nbconvert_exporter": "python",
   "pygments_lexer": "ipython3",
   "version": "3.11.3"
  }
 },
 "nbformat": 4,
 "nbformat_minor": 2
}
