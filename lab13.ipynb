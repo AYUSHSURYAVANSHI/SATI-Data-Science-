{
 "cells": [
  {
   "cell_type": "code",
   "execution_count": 5,
   "metadata": {},
   "outputs": [
    {
     "name": "stdout",
     "output_type": "stream",
     "text": [
      "0.953463\n",
      "\n",
      "Ayush Suryavanshi\n",
      "Enrollment No.- 0108io211014\n"
     ]
    }
   ],
   "source": [
    "import math\n",
    "\n",
    "def correlationCoefficient(X, Y, n):\n",
    "    sum_X = 0\n",
    "    sum_Y = 0\n",
    "    sum_XY = 0\n",
    "    squareSum_X = 0\n",
    "    squareSum_Y = 0\n",
    "    i = 0\n",
    "    while i < n:\n",
    "        sum_X = sum_X + X[i]\n",
    "        sum_Y = sum_Y + Y[i]\n",
    "        sum_XY = sum_XY + X[i] * Y[i]\n",
    "        squareSum_X = squareSum_X + X[i] * X[i]\n",
    "        squareSum_Y = squareSum_Y + Y[i] * Y[i]\n",
    "        i = i + 1\n",
    "    corr = (float)(n * sum_XY - sum_X * sum_Y) / (float)(math.sqrt((n * squareSum_X - sum_X * sum_X) * (n * squareSum_Y - sum_Y * sum_Y)))\n",
    "    return corr\n",
    "\n",
    "X = [15, 18, 21, 24, 27]\n",
    "Y = [25, 25, 27, 31, 32]\n",
    "\n",
    "n = len(X)\n",
    "\n",
    "print('{0:.6f}'.format(correlationCoefficient(X, Y, n)))\n",
    "print(\"\\nAyush Suryavanshi\")\n",
    "print(\"Enrollment No.- 0108io211014\")"
   ]
  },
  {
   "cell_type": "code",
   "execution_count": null,
   "metadata": {},
   "outputs": [],
   "source": []
  }
 ],
 "metadata": {
  "kernelspec": {
   "display_name": "Python 3",
   "language": "python",
   "name": "python3"
  },
  "language_info": {
   "codemirror_mode": {
    "name": "ipython",
    "version": 3
   },
   "file_extension": ".py",
   "mimetype": "text/x-python",
   "name": "python",
   "nbconvert_exporter": "python",
   "pygments_lexer": "ipython3",
   "version": "3.11.3"
  }
 },
 "nbformat": 4,
 "nbformat_minor": 2
}
