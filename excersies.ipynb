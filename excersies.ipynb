{
 "cells": [
  {
   "cell_type": "code",
   "execution_count": 4,
   "metadata": {},
   "outputs": [
    {
     "name": "stdout",
     "output_type": "stream",
     "text": [
      "1.24.1\n"
     ]
    }
   ],
   "source": [
    "# Q1. Write a Numpy program to get the Numpy version.\n",
    "import numpy as np\n",
    "print(np.__version__)"
   ]
  },
  {
   "cell_type": "code",
   "execution_count": 14,
   "metadata": {},
   "outputs": [
    {
     "name": "stdout",
     "output_type": "stream",
     "text": [
      "For array1: True\n",
      "For array2: False\n"
     ]
    }
   ],
   "source": [
    "# Q2. Write a NumPy program to test whether none of the elements of a given array are zero.\n",
    "import numpy as np\n",
    "\n",
    "# Example array\n",
    "array1 = np.array([1, 2, 5, 4, 5])\n",
    "array2 = np.array([0, 2, 3, 4, 5])\n",
    "\n",
    "result1 = np.all(array1!=0)\n",
    "result2 = np.all(array2!=0)\n",
    "\n",
    "\n",
    "print(\"For array1:\", result1)  # Should print True\n",
    "print(\"For array2:\", result2)  # Should print False\n",
    "    \n",
    "\n"
   ]
  },
  {
   "cell_type": "code",
   "execution_count": 2,
   "metadata": {},
   "outputs": [
    {
     "name": "stdout",
     "output_type": "stream",
     "text": [
      "Array1: [2 4 3 5 6]\n",
      "Array2: [2 4 7 8 6]\n",
      "Array1 > Array2: [False False False False False]\n",
      "Array1 >= Array2: [ True  True False False  True]\n",
      "Array1 < Array2: [False False  True  True False]\n",
      "Array1 <= Array2: [ True  True  True  True  True]\n"
     ]
    }
   ],
   "source": [
    "# Write a NumPy program to create an element-wise comparison (greater, greater_equal, less and less_equal) of two given arrays.\n",
    "import numpy as np\n",
    "array1 = np.array([2,4,3,5,6])\n",
    "array2 = np.array([2,4,7,8,6])\n",
    "\n",
    "\n",
    "\n",
    "greater_than = array1 > array2\n",
    "greater_than_equal = array1 >= array2\n",
    "less_than = array1 < array2\n",
    "less_than_equal = array1 <= array2\n",
    "\n",
    "\n",
    "print(\"Array1:\", array1)\n",
    "print(\"Array2:\", array2)\n",
    "print(\"Array1 > Array2:\", greater_than)\n",
    "print(\"Array1 >= Array2:\", greater_than_equal)\n",
    "print(\"Array1 < Array2:\", less_than)\n",
    "print(\"Array1 <= Array2:\", less_than_equal)\n",
    "\n"
   ]
  },
  {
   "cell_type": "code",
   "execution_count": 4,
   "metadata": {},
   "outputs": [
    {
     "name": "stdout",
     "output_type": "stream",
     "text": [
      "Array: [  1   7  13 105]\n",
      "Memory Occupied: 16 B\n"
     ]
    }
   ],
   "source": [
    "# Q4. Write a NumPy program to create an array with the values 1, 7, 13, 105 and determine the size of the memory occupied by the array.\n",
    "import numpy as np\n",
    "\n",
    "my_array = np.array([1,7,13,105])\n",
    "\n",
    "# Determine the size of memory occupied by the array\n",
    "memory_size_bytes = my_array.nbytes\n",
    "\n",
    "# Convert bytes to human-readable format\n",
    "if memory_size_bytes < 1024:\n",
    "    memory_size_readable = f\"{memory_size_bytes} B\"\n",
    "elif memory_size_bytes < 1024**2:\n",
    "    memory_size_readable = f\"{memory_size_bytes / 1024:.1f} KB\"\n",
    "elif memory_size_bytes < 1024**3:\n",
    "    memory_size_readable = f\"{memory_size_bytes / (1024**2):.1f} MB\"\n",
    "else:\n",
    "    memory_size_readable = f\"{memory_size_bytes / (1024**3):.1f} GB\"\n",
    "\n",
    "print(\"Array:\", my_array)\n",
    "print(\"Memory Occupied:\", memory_size_readable)\n"
   ]
  },
  {
   "cell_type": "code",
   "execution_count": 9,
   "metadata": {},
   "outputs": [
    {
     "name": "stdout",
     "output_type": "stream",
     "text": [
      "Array of integer from 30 to 70 is \n",
      " [30 31 32 33 34 35 36 37 38 39 40 41 42 43 44 45 46 47 48 49 50 51 52 53\n",
      " 54 55 56 57 58 59 60 61 62 63 64 65 66 67 68 69 70]\n"
     ]
    }
   ],
   "source": [
    "# Q5. Write a NumPy program to create an array of integers from 30 to 70.\n",
    "import numpy as np\n",
    "array = np.arange(30,71)\n",
    "print(\"Array of integer from 30 to 70 is \\n\", array)"
   ]
  },
  {
   "cell_type": "code",
   "execution_count": 13,
   "metadata": {},
   "outputs": [
    {
     "name": "stdout",
     "output_type": "stream",
     "text": [
      "Array from 30 to 70 of all even is \n",
      " [30 32 34 36 38 40 42 44 46 48 50 52 54 56 58 60 62 64 66 68 70]\n"
     ]
    }
   ],
   "source": [
    "# Q6. Write a NumPy program to create an array of all even integers from 30 to 70.\n",
    "import numpy as np\n",
    "array = np.arange(30,71,2)\n",
    "print(\"Array from 30 to 70 of all even is \\n\",array)"
   ]
  },
  {
   "cell_type": "code",
   "execution_count": 16,
   "metadata": {},
   "outputs": [
    {
     "name": "stdout",
     "output_type": "stream",
     "text": [
      "3x3 Identity Matrix:\n",
      " [[1. 0. 0.]\n",
      " [0. 1. 0.]\n",
      " [0. 0. 1.]]\n"
     ]
    }
   ],
   "source": [
    "# Q7.  Write a NumPy program to create a 3x3 identity matrix.\n",
    "import numpy as np\n",
    "\n",
    "identity_matrix = np.eye(3)\n",
    "\n",
    "print(\"3x3 Identity Matrix:\\n\",  identity_matrix)\n",
    "\n",
    "\n"
   ]
  },
  {
   "cell_type": "code",
   "execution_count": 17,
   "metadata": {},
   "outputs": [
    {
     "name": "stdout",
     "output_type": "stream",
     "text": [
      "Original array:\n",
      "[[10 11 12 13]\n",
      " [14 15 16 17]\n",
      " [18 19 20 21]]\n",
      "Each element of the array is:\n",
      "10 11 12 13 14 15 16 17 18 19 20 21 "
     ]
    }
   ],
   "source": [
    "# Q8.Write a search NumPy program to create a 3X4 array and iterate over it.\n",
    "import numpy as np\n",
    "a = np.arange(10,22).reshape((3, 4))\n",
    "print(\"Original array:\")\n",
    "print(a)\n",
    "print(\"Each element of the array is:\")\n",
    "for x in np.nditer(a):\n",
    "    print(x,end=\" \")"
   ]
  }
 ],
 "metadata": {
  "kernelspec": {
   "display_name": "Python 3",
   "language": "python",
   "name": "python3"
  },
  "language_info": {
   "codemirror_mode": {
    "name": "ipython",
    "version": 3
   },
   "file_extension": ".py",
   "mimetype": "text/x-python",
   "name": "python",
   "nbconvert_exporter": "python",
   "pygments_lexer": "ipython3",
   "version": "3.11.0"
  },
  "orig_nbformat": 4
 },
 "nbformat": 4,
 "nbformat_minor": 2
}
