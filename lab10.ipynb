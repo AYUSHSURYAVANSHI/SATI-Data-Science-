{
 "cells": [
  {
   "cell_type": "code",
   "execution_count": 1,
   "metadata": {},
   "outputs": [
    {
     "name": "stdout",
     "output_type": "stream",
     "text": [
      "Name = Ayush Suryavanshi\n",
      "Enroll.NO. = 0108IO211014\n",
      "Variance of Sample1 is 15.80952380952381 \n",
      "Variance of Sample2 is 3.5 \n",
      "Variance of Sample3 is 61.125 \n",
      "Variance of Sample4 is 1/45 \n",
      "Variance of Sample5 is 0.17613000000000006 \n"
     ]
    }
   ],
   "source": [
    "from statistics import variance\n",
    "from fractions import Fraction as fr\n",
    "sample1 = (1, 2, 5, 4, 8, 9, 12)\n",
    "\n",
    "sample2 = (-2, -4, -3, -1, -5, -6)\n",
    "\n",
    "sample3 = (-9, -1, -0, 2, 1, 3, 4, 19)\n",
    "\n",
    "sample4 = (fr(1, 2), fr(2, 3), fr(3, 4),\n",
    "fr(5, 6), fr(7, 8))\n",
    "\n",
    "sample5 = (1.23, 1.45, 2.1, 2.2, 1.9)\n",
    "\n",
    "print(\"Variance of Sample1 is % s \" %(variance(sample1)))\n",
    "print(\"Variance of Sample2 is % s \" %(variance(sample2)))\n",
    "print(\"Variance of Sample3 is % s \" %(variance(sample3)))\n",
    "print(\"Variance of Sample4 is % s \" %(variance(sample4)))\n",
    "print(\"Variance of Sample5 is % s \" %(variance(sample5)))"
   ]
  },
  {
   "cell_type": "code",
   "execution_count": null,
   "metadata": {},
   "outputs": [],
   "source": []
  }
 ],
 "metadata": {
  "kernelspec": {
   "display_name": "Python 3",
   "language": "python",
   "name": "python3"
  },
  "language_info": {
   "codemirror_mode": {
    "name": "ipython",
    "version": 3
   },
   "file_extension": ".py",
   "mimetype": "text/x-python",
   "name": "python",
   "nbconvert_exporter": "python",
   "pygments_lexer": "ipython3",
   "version": "3.11.3"
  }
 },
 "nbformat": 4,
 "nbformat_minor": 2
}
